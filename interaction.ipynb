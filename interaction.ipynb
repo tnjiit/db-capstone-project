{
 "cells": [
  {
   "cell_type": "code",
   "execution_count": 6,
   "metadata": {},
   "outputs": [],
   "source": [
    "from mysql.connector import MySQLConnection\n",
    "from contextlib import closing\n",
    "import os\n",
    "from dotenv import load_dotenv"
   ]
  },
  {
   "cell_type": "code",
   "execution_count": 7,
   "metadata": {},
   "outputs": [
    {
     "data": {
      "text/plain": [
       "True"
      ]
     },
     "execution_count": 7,
     "metadata": {},
     "output_type": "execute_result"
    }
   ],
   "source": [
    "load_dotenv()"
   ]
  },
  {
   "cell_type": "code",
   "execution_count": 10,
   "metadata": {},
   "outputs": [],
   "source": [
    "dbconfig = {\n",
    "    'user': os.getenv('MYSQL_USER'),\n",
    "    'host': 'localhost',\n",
    "    'port': '3306',\n",
    "    'database': 'LittleLemonDB',\n",
    "    'password': os.getenv('MYSQL_PASSWORD')\n",
    "}"
   ]
  },
  {
   "cell_type": "code",
   "execution_count": 11,
   "metadata": {},
   "outputs": [],
   "source": [
    "def execute_dmc(query):\n",
    "    with closing(\n",
    "        MySQLConnection(**dbconfig)\n",
    "    ) as connection:\n",
    "        with closing(\n",
    "            connection.cursor()\n",
    "        ) as cursor:\n",
    "            cursor.execute(\n",
    "                query\n",
    "            )\n",
    "            connection.commit()"
   ]
  },
  {
   "cell_type": "code",
   "execution_count": 12,
   "metadata": {},
   "outputs": [],
   "source": [
    "def execute_dql(query):\n",
    "    with closing(\n",
    "        MySQLConnection(**dbconfig)\n",
    "    ) as connection:\n",
    "        with closing(\n",
    "            connection.cursor()\n",
    "        ) as cursor:\n",
    "            cursor.execute(query)\n",
    "            return pd.DataFrame(\n",
    "                data=cursor.fetchall(),\n",
    "                columns=cursor.column_names\n",
    "            )"
   ]
  },
  {
   "cell_type": "code",
   "execution_count": 13,
   "metadata": {},
   "outputs": [
    {
     "name": "stdout",
     "output_type": "stream",
     "text": [
      "None\n"
     ]
    }
   ],
   "source": [
    "print(\n",
    "    os.getenv('MYSQL_PASSWORD')\n",
    ")"
   ]
  },
  {
   "cell_type": "code",
   "execution_count": null,
   "metadata": {},
   "outputs": [],
   "source": []
  },
  {
   "cell_type": "code",
   "execution_count": null,
   "metadata": {},
   "outputs": [],
   "source": []
  }
 ],
 "metadata": {
  "kernelspec": {
   "display_name": "Python 3",
   "language": "python",
   "name": "python3"
  },
  "language_info": {
   "codemirror_mode": {
    "name": "ipython",
    "version": 3
   },
   "file_extension": ".py",
   "mimetype": "text/x-python",
   "name": "python",
   "nbconvert_exporter": "python",
   "pygments_lexer": "ipython3",
   "version": "3.8.17"
  },
  "orig_nbformat": 4
 },
 "nbformat": 4,
 "nbformat_minor": 2
}
